{
 "cells": [
  {
   "cell_type": "code",
   "execution_count": 1,
   "source": [
    "import requests\r\n",
    "base_url = \"http://127.0.0.1:8000\""
   ],
   "outputs": [],
   "metadata": {}
  },
  {
   "cell_type": "code",
   "execution_count": null,
   "source": [
    "requests.post(f\"{base_url}/register/system\", json={\"system_nm\": \"anothpricing1\", \"system_desc\": \"The pricing system is responsible for accurately pricing vehicles in a responsive manner\"})"
   ],
   "outputs": [],
   "metadata": {}
  },
  {
   "cell_type": "code",
   "execution_count": 2,
   "source": [
    "requests.post(f\"{base_url}/register/alert\", json={\"alert_nm\": \"Bad Alert\", \"alert_desc\": \"This is a funky alert\", \"system_nm\": \"default\"})"
   ],
   "outputs": [
    {
     "output_type": "execute_result",
     "data": {
      "text/plain": [
       "<Response [200]>"
      ]
     },
     "metadata": {},
     "execution_count": 2
    }
   ],
   "metadata": {}
  },
  {
   "cell_type": "code",
   "execution_count": null,
   "source": [
    "requests.post(f\"{base_url}/silence\", json={\"alert_nm\": \"Bad Alert\"})"
   ],
   "outputs": [],
   "metadata": {}
  },
  {
   "cell_type": "code",
   "execution_count": null,
   "source": [
    "requests.post(f\"{base_url}/alert\", json={\"alert_nm\": \"Bad Alert\"})"
   ],
   "outputs": [],
   "metadata": {}
  }
 ],
 "metadata": {
  "orig_nbformat": 4,
  "language_info": {
   "name": "python",
   "version": "3.10.0",
   "mimetype": "text/x-python",
   "codemirror_mode": {
    "name": "ipython",
    "version": 3
   },
   "pygments_lexer": "ipython3",
   "nbconvert_exporter": "python",
   "file_extension": ".py"
  },
  "kernelspec": {
   "name": "python3",
   "display_name": "Python 3.10.0 64-bit ('safastapi': conda)"
  },
  "interpreter": {
   "hash": "ec464eda9bc737c2257af6a528981d273afe266cbcbbbe023f402eb1f24d2c04"
  }
 },
 "nbformat": 4,
 "nbformat_minor": 2
}